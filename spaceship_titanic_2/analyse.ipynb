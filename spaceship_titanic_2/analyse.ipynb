{
 "cells": [
  {
   "cell_type": "markdown",
   "metadata": {},
   "source": [
    "# Daten-Analyse Spaceship Titanic"
   ]
  },
  {
   "cell_type": "code",
   "execution_count": null,
   "metadata": {},
   "outputs": [],
   "source": [
    "import pandas as pd\n",
    "import seaborn as sns\n",
    "import numpy as np\n",
    "import matplotlib.pyplot as plt\n",
    "import joblib\n",
    "from sklearn.tree import DecisionTreeClassifier\n",
    "from sklearn.neighbors import KNeighborsClassifier\n",
    "from sklearn.ensemble import RandomForestClassifier\n",
    "from sklearn.ensemble import AdaBoostClassifier\n",
    "from sklearn import tree\n",
    "from sklearn.model_selection import train_test_split\n",
    "from sklearn import preprocessing\n",
    "from sklearn.ensemble import RandomForestRegressor\n",
    "from sklearn.pipeline import make_pipeline\n",
    "from sklearn.model_selection import GridSearchCV\n",
    "from sklearn.metrics import mean_squared_error, r2_score\n",
    "from sklearn.preprocessing import OneHotEncoder\n",
    "from sklearn.metrics import accuracy_score\n",
    "\n",
    "\n",
    "\n",
    "# Load CSV into Dataframe from Data folder\n",
    "df = pd.read_csv('data/train.csv')\n",
    "df_test = pd.read_csv('data/test.csv')"
   ]
  },
  {
   "cell_type": "code",
   "execution_count": null,
   "metadata": {},
   "outputs": [],
   "source": [
    "print(df.head())"
   ]
  },
  {
   "cell_type": "code",
   "execution_count": null,
   "metadata": {},
   "outputs": [],
   "source": [
    "print(df.shape)"
   ]
  },
  {
   "cell_type": "code",
   "execution_count": null,
   "metadata": {},
   "outputs": [],
   "source": [
    "print(df.describe())"
   ]
  },
  {
   "cell_type": "code",
   "execution_count": null,
   "metadata": {},
   "outputs": [],
   "source": [
    "print(df.info())"
   ]
  },
  {
   "cell_type": "code",
   "execution_count": null,
   "metadata": {},
   "outputs": [],
   "source": [
    "# use one hot encoding to convert categorical columns to numeric\n",
    "df_cats = df.select_dtypes(include='object')\n",
    "one_hot = OneHotEncoder()\n",
    "df_cats = one_hot.fit_transform(df_cats).toarray()\n",
    "df_cats = pd.DataFrame(df_cats, columns=one_hot.get_feature_names_out())\n",
    "df_cats"
   ]
  },
  {
   "cell_type": "code",
   "execution_count": null,
   "metadata": {},
   "outputs": [],
   "source": [
    "# drop categorical columns from original dataframe\n",
    "df = df.drop(columns=df.select_dtypes(include='object').columns)\n",
    "df = pd.concat([df, df_cats], axis=1)\n",
    "df"
   ]
  },
  {
   "cell_type": "code",
   "execution_count": null,
   "metadata": {},
   "outputs": [],
   "source": [
    "# Show me all columns\n",
    "pd.set_option('display.max_columns', None)\n",
    "df.head()\n"
   ]
  },
  {
   "cell_type": "code",
   "execution_count": null,
   "metadata": {},
   "outputs": [],
   "source": [
    "# Show me all columns with NaN values\n",
    "df.columns[df.any()].tolist()\n"
   ]
  },
  {
   "cell_type": "code",
   "execution_count": null,
   "metadata": {},
   "outputs": [],
   "source": [
    "# Fill NaN of each column with mean of that column\n",
    "for col in df.columns[df.any()].tolist():\n",
    "    df[col] = df[col].fillna(df[col].mean())\n",
    "\n"
   ]
  },
  {
   "cell_type": "code",
   "execution_count": null,
   "metadata": {},
   "outputs": [],
   "source": [
    "# show how many nan values are in each column\n",
    "print(df.isnull().sum())"
   ]
  },
  {
   "cell_type": "code",
   "execution_count": null,
   "metadata": {},
   "outputs": [],
   "source": [
    "y = df[\"Transported\"]\n",
    "X = df.drop('Transported', axis=1)\n",
    "\n",
    "X_train, X_test, y_train, y_test = train_test_split(X, y, test_size=0.2, random_state=123, stratify=y)"
   ]
  },
  {
   "cell_type": "code",
   "execution_count": null,
   "metadata": {},
   "outputs": [],
   "source": [
    "rf = RandomForestClassifier(n_estimators=50, max_leaf_nodes=50, random_state=42)\n",
    "rf.fit(X_train, y_train)\n",
    "y_pred = rf.predict(X_test)\n",
    "Random_Forest = ('Accuracy score: ', accuracy_score(y_test, y_pred))\n",
    "print(Random_Forest)"
   ]
  },
  {
   "cell_type": "code",
   "execution_count": null,
   "metadata": {},
   "outputs": [],
   "source": [
    "ada = AdaBoostClassifier(n_estimators=250, random_state=42)\n",
    "ada.fit(X_train, y_train)\n",
    "y_pred = ada.predict(X_test)\n",
    "ADA_Boost = print('Accuracy score: ', accuracy_score(y_test, y_pred))\n",
    "print(ADA_Boost)"
   ]
  },
  {
   "cell_type": "code",
   "execution_count": null,
   "metadata": {},
   "outputs": [],
   "source": [
    "# Voting Classifier with rf and ada\n",
    "from sklearn.ensemble import VotingClassifier\n",
    "voting_clf = VotingClassifier(\n",
    "    estimators=[('rf', rf), ('ada', ada)],\n",
    "    voting='hard')\n",
    "voting_clf.fit(X_train, y_train)\n",
    "y_pred = voting_clf.predict(X_test)\n",
    "Voting_Classifier = print('Accuracy score: ', accuracy_score(y_test, y_pred))\n",
    "print(Voting_Classifier)\n"
   ]
  },
  {
   "cell_type": "code",
   "execution_count": null,
   "metadata": {},
   "outputs": [],
   "source": [
    "# SVM Classifier with Grid Search\n",
    "from sklearn.svm import SVC\n",
    "from sklearn.model_selection import GridSearchCV\n",
    "from sklearn.pipeline import make_pipeline\n",
    "from sklearn.preprocessing import StandardScaler\n",
    "pipe = make_pipeline(StandardScaler(), SVC(random_state=42))\n",
    "param_grid = [{'svc__C': [1, 10, 100, 1000], 'svc__kernel': ['linear']},\n",
    "              {'svc__C': [1, 10, 100, 1000], 'svc__gamma': [0.001, 0.0001],\n",
    "               'svc__kernel': ['rbf']}]\n",
    "grid = GridSearchCV(pipe, param_grid, cv=5, iid=False)\n",
    "grid.fit(X_train, y_train)\n",
    "y_pred = grid.predict(X_test)\n",
    "SVM_Classifier = print('Accuracy score: ', accuracy_score(y_test, y_pred))\n",
    "print(SVM_Classifier)\n"
   ]
  },
  {
   "cell_type": "code",
   "execution_count": null,
   "metadata": {},
   "outputs": [],
   "source": [
    "# Use the Voting Classifier to predict the test data\n",
    "df_test_cats = df_test.select_dtypes(include='object')\n",
    "one_hot = OneHotEncoder()\n",
    "df_test_cats = one_hot.fit_transform(df_test_cats).toarray()\n",
    "df_test_cats = pd.DataFrame(df_test_cats, columns=one_hot.get_feature_names_out())\n",
    "df_test_cats\n",
    "\n",
    "# drop categorical columns from original dataframe\n",
    "df_test = df_test.drop(columns=df_test.select_dtypes(include='object').columns)\n",
    "df_test = pd.concat([df_test, df_test_cats], axis=1)\n",
    "df_test\n",
    "\n",
    "# # predict test data based on voting classifier\n",
    "# y_pred = voting_clf.predict(df_test)\n",
    "# print(y_pred)\n",
    "\n",
    "# # create submission file\n",
    "# submission = pd.DataFrame({'Id': df_test.Id, 'Transported': y_pred})\n",
    "# submission.to_csv('submission.csv', index=False)\n",
    "# submission.head()\n"
   ]
  },
  {
   "cell_type": "code",
   "execution_count": null,
   "metadata": {},
   "outputs": [],
   "source": []
  }
 ],
 "metadata": {
  "kernelspec": {
   "display_name": "Python 3",
   "language": "python",
   "name": "python3"
  },
  "language_info": {
   "codemirror_mode": {
    "name": "ipython",
    "version": 3
   },
   "file_extension": ".py",
   "mimetype": "text/x-python",
   "name": "python",
   "nbconvert_exporter": "python",
   "pygments_lexer": "ipython3",
   "version": "3.10.13"
  }
 },
 "nbformat": 4,
 "nbformat_minor": 2
}
