{
 "cells": [
  {
   "cell_type": "code",
   "execution_count": 1,
   "metadata": {},
   "outputs": [],
   "source": [
    "# Einlesen der CSV Datei\n",
    "import pandas as pd\n",
    "df = pd.read_csv(\"ds_salaries.csv\")"
   ]
  },
  {
   "cell_type": "code",
   "execution_count": 2,
   "metadata": {},
   "outputs": [
    {
     "name": "stdout",
     "output_type": "stream",
     "text": [
      "606\n"
     ]
    }
   ],
   "source": [
    "# Wie viele Einträge hat das Dataset? --> Header abgezogen\n",
    "rowcount_all = len(df)-1\n",
    "print(rowcount_all)"
   ]
  },
  {
   "cell_type": "code",
   "execution_count": 3,
   "metadata": {},
   "outputs": [
    {
     "name": "stdout",
     "output_type": "stream",
     "text": [
      "company_location\n",
      "US    355\n",
      "GB     47\n",
      "CA     30\n",
      "Name: count, dtype: int64\n"
     ]
    }
   ],
   "source": [
    "# Welches sind die Top-3 Länder und wie viele Einträge haben sie jeweils?\n",
    "top3_country = df[\"company_location\"].value_counts().head(3)\n",
    "print(top3_country)"
   ]
  },
  {
   "cell_type": "code",
   "execution_count": 4,
   "metadata": {},
   "outputs": [
    {
     "name": "stdout",
     "output_type": "stream",
     "text": [
      "$ 112297.86985172982\n"
     ]
    }
   ],
   "source": [
    "# Wie hoch ist das Durschnittseinkommen?\n",
    "mean_salary = df[\"salary_in_usd\"].mean()\n",
    "print(\"$\", mean_salary)"
   ]
  },
  {
   "cell_type": "code",
   "execution_count": 5,
   "metadata": {},
   "outputs": [
    {
     "name": "stdout",
     "output_type": "stream",
     "text": [
      "[95813.0, 99853.79262672811, 124522.00628930818]\n"
     ]
    },
    {
     "data": {
      "text/plain": [
       "(array([2019.5, 2020. , 2020.5, 2021. , 2021.5, 2022. , 2022.5]),\n",
       " [Text(2019.5, 0, '2019.5'),\n",
       "  Text(2020.0, 0, '2020.0'),\n",
       "  Text(2020.5, 0, '2020.5'),\n",
       "  Text(2021.0, 0, '2021.0'),\n",
       "  Text(2021.5, 0, '2021.5'),\n",
       "  Text(2022.0, 0, '2022.0'),\n",
       "  Text(2022.5, 0, '2022.5')])"
      ]
     },
     "execution_count": 5,
     "metadata": {},
     "output_type": "execute_result"
    },
    {
     "data": {
      "image/png": "[encoded data removed]",
      "text/plain": [
       "<Figure size 640x480 with 1 Axes>"
      ]
     },
     "metadata": {},
     "output_type": "display_data"
    }
   ],
   "source": [
    "# Ist das Durchschnittseinkommen von 2020 bis 2022 gestiegen oder gefallen? Visualisieren Sie dies!\n",
    "avg_salary2020 = df.loc[df[\"work_year\"] == 2020, \"salary_in_usd\"].mean()\n",
    "avg_salary2021 = df.loc[df[\"work_year\"] == 2021, \"salary_in_usd\"].mean()\n",
    "avg_salary2022 = df.loc[df[\"work_year\"] == 2022, \"salary_in_usd\"].mean()\n",
    "\n",
    "avg_salarys = [avg_salary2020, avg_salary2021, avg_salary2022]\n",
    "print(avg_salarys)\n",
    "\n",
    "import matplotlib.pyplot as plt\n",
    "years = [2020, 2021, 2022]\n",
    "plt.bar(years, avg_salarys, width=0.25)\n",
    "plt.title('Durchschnittseinkommen pro Jahr (2020-2022)')\n",
    "plt.xlabel('Jahr')\n",
    "plt.ylabel('Durchschnittseinkommen')\n",
    "plt.xticks()"
   ]
  },
  {
   "cell_type": "code",
   "execution_count": 6,
   "metadata": {},
   "outputs": [
    {
     "name": "stdout",
     "output_type": "stream",
     "text": [
      "8.40197693574959 %\n"
     ]
    }
   ],
   "source": [
    "# Es gibt Arbeitnehmer, die in einem anderem Land wohnen, als das in dem sie arbeiten:\n",
    "#   Wie viel Prozent der Arbeitnehmer betrifft dies?\n",
    "outsidework = df.loc[df[\"employee_residence\"] != df[\"company_location\"]]\n",
    "percent_outsidework = (len(outsidework) / len(df))*100\n",
    "print(percent_outsidework, \"%\")"
   ]
  },
  {
   "cell_type": "code",
   "execution_count": 7,
   "metadata": {},
   "outputs": [
    {
     "name": "stdout",
     "output_type": "stream",
     "text": [
      "The Inside Worker gets more money in average\n",
      "$ 76758.35294117648 Outside Worker\n",
      "$ 115557.78956834532 Inside Worker\n"
     ]
    }
   ],
   "source": [
    "#   Verdienen sie mehr oder weniger als die NICHT-Pendler\n",
    "insidework = df.loc[df[\"employee_residence\"] == df[\"company_location\"]]\n",
    "\n",
    "avg_outsidework_salary = df.loc[df[\"employee_residence\"] != df[\"company_location\"], \"salary_in_usd\"].mean()\n",
    "avg_insidework_salary =  df.loc[df[\"employee_residence\"] == df[\"company_location\"], \"salary_in_usd\"].mean()\n",
    "\n",
    "print(\"The Inside Worker gets more money in average\")\n",
    "print(\"$\", avg_outsidework_salary, \"Outside Worker\")\n",
    "print(\"$\", avg_insidework_salary, \"Inside Worker\")"
   ]
  },
  {
   "cell_type": "code",
   "execution_count": 8,
   "metadata": {},
   "outputs": [
    {
     "ename": "SyntaxError",
     "evalue": "invalid syntax (532620485.py, line 2)",
     "output_type": "error",
     "traceback": [
      "\u001b[0;36m  Cell \u001b[0;32mIn[8], line 2\u001b[0;36m\u001b[0m\n\u001b[0;31m    top_job =\u001b[0m\n\u001b[0m              ^\u001b[0m\n\u001b[0;31mSyntaxError\u001b[0m\u001b[0;31m:\u001b[0m invalid syntax\n"
     ]
    }
   ],
   "source": [
    "# Welcher Job verspricht das höchste Durschnittseinkommen (job_title)\n",
    "top_job = "
   ]
  }
 ],
 "metadata": {
  "kernelspec": {
   "display_name": "Python 3",
   "language": "python",
   "name": "python3"
  },
  "language_info": {
   "codemirror_mode": {
    "name": "ipython",
    "version": 3
   },
   "file_extension": ".py",
   "mimetype": "text/x-python",
   "name": "python",
   "nbconvert_exporter": "python",
   "pygments_lexer": "ipython3",
   "version": "3.10.8"
  },
  "orig_nbformat": 4
 },
 "nbformat": 4,
 "nbformat_minor": 2
}
